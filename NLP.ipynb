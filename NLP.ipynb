{
 "cells": [
  {
   "cell_type": "markdown",
   "metadata": {},
   "source": [
    "# NLP"
   ]
  },
  {
   "cell_type": "code",
   "execution_count": 9,
   "metadata": {},
   "outputs": [],
   "source": [
    "import sys\n",
    "from urllib.request import Request, urlopen\n",
    "from urllib.error import HTTPError, URLError\n",
    "from bs4 import BeautifulSoup"
   ]
  },
  {
   "cell_type": "code",
   "execution_count": 10,
   "metadata": {},
   "outputs": [],
   "source": [
    "# Récupération de la page Web\n",
    "mon_url = \"https://www.courdecassation.fr/recherche-judilibre\"\n",
    "\n",
    "def parseURL(mon_url):\n",
    "    req = Request(mon_url)\n",
    "    \n",
    "    try: \n",
    "        html = urlopen(req)\n",
    "    except (HTTPError, URLError) as e:\n",
    "        sys.exit(e) \n",
    "    \n",
    "    bsObj = BeautifulSoup(html, \"lxml\")\n",
    "    \n",
    "    titre = bsObj.find(\"div\", class_=\"inline-block\").find(\"h3\").get_text()\n",
    "    \n",
    "    soup = bsObj.find(\"div\", class_ = \"view-judilibre\").find_all(\"div\", class_ = \"decision-item--header\")\n",
    "    lien_art = []\n",
    "    for i in soup:\n",
    "            un_lien = i.find(\"a\")\n",
    "            lien_art.append(un_lien)\n",
    "\n",
    "    return(lien_art, titre)"
   ]
  },
  {
   "cell_type": "code",
   "execution_count": 11,
   "metadata": {},
   "outputs": [
    {
     "ename": "FeatureNotFound",
     "evalue": "Couldn't find a tree builder with the features you requested: lxml. Do you need to install a parser library?",
     "output_type": "error",
     "traceback": [
      "\u001b[1;31m---------------------------------------------------------------------------\u001b[0m",
      "\u001b[1;31mFeatureNotFound\u001b[0m                           Traceback (most recent call last)",
      "Cell \u001b[1;32mIn[11], line 1\u001b[0m\n\u001b[1;32m----> 1\u001b[0m parseURL(mon_url)\n",
      "Cell \u001b[1;32mIn[10], line 12\u001b[0m, in \u001b[0;36mparseURL\u001b[1;34m(mon_url)\u001b[0m\n\u001b[0;32m      9\u001b[0m \u001b[39mexcept\u001b[39;00m (HTTPError, URLError) \u001b[39mas\u001b[39;00m e:\n\u001b[0;32m     10\u001b[0m     sys\u001b[39m.\u001b[39mexit(e) \n\u001b[1;32m---> 12\u001b[0m bsObj \u001b[39m=\u001b[39m BeautifulSoup(html, \u001b[39m\"\u001b[39;49m\u001b[39mlxml\u001b[39;49m\u001b[39m\"\u001b[39;49m)\n\u001b[0;32m     14\u001b[0m titre \u001b[39m=\u001b[39m bsObj\u001b[39m.\u001b[39mfind(\u001b[39m\"\u001b[39m\u001b[39mdiv\u001b[39m\u001b[39m\"\u001b[39m, class_\u001b[39m=\u001b[39m\u001b[39m\"\u001b[39m\u001b[39minline-block\u001b[39m\u001b[39m\"\u001b[39m)\u001b[39m.\u001b[39mfind(\u001b[39m\"\u001b[39m\u001b[39mh3\u001b[39m\u001b[39m\"\u001b[39m)\u001b[39m.\u001b[39mget_text()\n\u001b[0;32m     16\u001b[0m soup \u001b[39m=\u001b[39m bsObj\u001b[39m.\u001b[39mfind(\u001b[39m\"\u001b[39m\u001b[39mdiv\u001b[39m\u001b[39m\"\u001b[39m, class_ \u001b[39m=\u001b[39m \u001b[39m\"\u001b[39m\u001b[39mview-judilibre\u001b[39m\u001b[39m\"\u001b[39m)\u001b[39m.\u001b[39mfind_all(\u001b[39m\"\u001b[39m\u001b[39mdiv\u001b[39m\u001b[39m\"\u001b[39m, class_ \u001b[39m=\u001b[39m \u001b[39m\"\u001b[39m\u001b[39mdecision-item--header\u001b[39m\u001b[39m\"\u001b[39m)\n",
      "File \u001b[1;32mc:\\Users\\ewen\\Documents\\M2\\NLP\\M2_NLP_Mandard_LeCunff\\venv\\lib\\site-packages\\bs4\\__init__.py:248\u001b[0m, in \u001b[0;36mBeautifulSoup.__init__\u001b[1;34m(self, markup, features, builder, parse_only, from_encoding, exclude_encodings, element_classes, **kwargs)\u001b[0m\n\u001b[0;32m    246\u001b[0m     builder_class \u001b[39m=\u001b[39m builder_registry\u001b[39m.\u001b[39mlookup(\u001b[39m*\u001b[39mfeatures)\n\u001b[0;32m    247\u001b[0m     \u001b[39mif\u001b[39;00m builder_class \u001b[39mis\u001b[39;00m \u001b[39mNone\u001b[39;00m:\n\u001b[1;32m--> 248\u001b[0m         \u001b[39mraise\u001b[39;00m FeatureNotFound(\n\u001b[0;32m    249\u001b[0m             \u001b[39m\"\u001b[39m\u001b[39mCouldn\u001b[39m\u001b[39m'\u001b[39m\u001b[39mt find a tree builder with the features you \u001b[39m\u001b[39m\"\u001b[39m\n\u001b[0;32m    250\u001b[0m             \u001b[39m\"\u001b[39m\u001b[39mrequested: \u001b[39m\u001b[39m%s\u001b[39;00m\u001b[39m. Do you need to install a parser library?\u001b[39m\u001b[39m\"\u001b[39m\n\u001b[0;32m    251\u001b[0m             \u001b[39m%\u001b[39m \u001b[39m\"\u001b[39m\u001b[39m,\u001b[39m\u001b[39m\"\u001b[39m\u001b[39m.\u001b[39mjoin(features))\n\u001b[0;32m    253\u001b[0m \u001b[39m# At this point either we have a TreeBuilder instance in\u001b[39;00m\n\u001b[0;32m    254\u001b[0m \u001b[39m# builder, or we have a builder_class that we can instantiate\u001b[39;00m\n\u001b[0;32m    255\u001b[0m \u001b[39m# with the remaining **kwargs.\u001b[39;00m\n\u001b[0;32m    256\u001b[0m \u001b[39mif\u001b[39;00m builder \u001b[39mis\u001b[39;00m \u001b[39mNone\u001b[39;00m:\n",
      "\u001b[1;31mFeatureNotFound\u001b[0m: Couldn't find a tree builder with the features you requested: lxml. Do you need to install a parser library?"
     ]
    }
   ],
   "source": [
    "parseURL(mon_url)"
   ]
  }
 ],
 "metadata": {
  "kernelspec": {
   "display_name": "venv",
   "language": "python",
   "name": "python3"
  },
  "language_info": {
   "codemirror_mode": {
    "name": "ipython",
    "version": 3
   },
   "file_extension": ".py",
   "mimetype": "text/x-python",
   "name": "python",
   "nbconvert_exporter": "python",
   "pygments_lexer": "ipython3",
   "version": "3.10.9"
  },
  "orig_nbformat": 4,
  "vscode": {
   "interpreter": {
    "hash": "2e5f0aa3c442e12399d8e33ce2d770eeda0c9e378ff66d84e8e82b711488410b"
   }
  }
 },
 "nbformat": 4,
 "nbformat_minor": 2
}

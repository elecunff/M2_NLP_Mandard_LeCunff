{
 "cells": [
  {
   "cell_type": "markdown",
   "metadata": {},
   "source": [
    "# NLP"
   ]
  },
  {
   "attachments": {},
   "cell_type": "markdown",
   "metadata": {},
   "source": [
    "### Maël Mandard - Ewen Le Cunff"
   ]
  },
  {
   "cell_type": "code",
   "execution_count": 1,
   "metadata": {},
   "outputs": [],
   "source": [
    "import json\n",
    "import pandas as pd\n",
    "import re\n",
    "from unidecode import unidecode\n",
    "import nltk\n",
    "from nltk.corpus import stopwords\n",
    "import spacy"
   ]
  },
  {
   "cell_type": "code",
   "execution_count": 2,
   "metadata": {},
   "outputs": [],
   "source": [
    "liste = ['formation0', 'formation1', 'formation2', 'formation3', 'formation4',\n",
    "         'rupture0', 'rupture1', 'rupture2', 'rupture3', 'rupture4']\n",
    "\n",
    "date = []\n",
    "texte = []\n",
    "theme = []\n",
    "\n",
    "for obj in liste :\n",
    "    #f = open(f\"C:/Users/Mael/Documents/Fac/M2/NLP/M2_NLP_Mandard_LeCunff/Data/{obj}.json\", encoding= 'UTF-8')\n",
    "    f = open(f\"C:/Users/ewen/Documents/M2/NLP/M2_NLP_Mandard_LeCunff/Data/{obj}.json\", encoding= 'UTF-8')\n",
    "    \n",
    "    data = json.load(f)\n",
    "    \n",
    "    them = data['query']['theme']\n",
    "    \n",
    "    results = data['results']\n",
    "    \n",
    "    for res in results : \n",
    "        theme.append(them[0])\n",
    "        date.append(res['decision_date'])\n",
    "        texte.append(res['text'])\n",
    "    \n",
    "\n",
    "fin_data = pd.DataFrame({'date' : date, 'theme' : theme, 'texte' : texte})"
   ]
  },
  {
   "cell_type": "code",
   "execution_count": 3,
   "metadata": {},
   "outputs": [],
   "source": [
    "#1ere etape : mettre en minuscule\n",
    "#2eme etape : enlever et tokenisation\n",
    "#3eme etape : stop words\n",
    "#4eme etape : lemmatisation\n",
    "\n",
    "def mise_en_minuscule(text):\n",
    "    return text.replace(text, text.lower())\n",
    "\n",
    "def remove_accents(text) : \n",
    "    return unidecode(text)\n",
    "\n",
    "def clean_text(text):\n",
    "    text = re.sub('[^a-zA-Z]', ' ', text) #supprimer les caractères non alphanumériques\n",
    "    text = re.sub(r'\\b\\d+\\b', '', text) #supprimer les mots qui contiennent un chiffre\n",
    "    text = re.sub(r'\\bxx+\\b|\\bXX+\\b', '', text) #supprimer les mots qui contiennent une chaîne de \"xx\" ou \"XX\"\n",
    "    return text\n",
    "\n",
    "def supprime_stopwords(text):\n",
    "    words = re.split(r\"[ ]\", text)\n",
    "    filtered_words = [word for word in words if word.lower() not in stop_words]\n",
    "    return ' '.join(filtered_words)\n",
    "\n",
    "def supprime_espace(text):\n",
    "    words = re.split(r\"[ ]\", text)\n",
    "    filtered_words = [word for word in words if word]\n",
    "    return ' '.join(filtered_words)\n",
    "\n",
    "def lemmatize(allowed_postags=[\"NOUN\", \"ADJ\", \"VERB\", \"ADV\"]):\n",
    "    fin_data['texte'] = fin_data['texte'].apply(lambda x: \" \".join([token.lemma_ for token in nlp(x) if token.pos_ in allowed_postags]))\n",
    "    return fin_data['texte']\n"
   ]
  },
  {
   "cell_type": "code",
   "execution_count": 4,
   "metadata": {},
   "outputs": [
    {
     "name": "stderr",
     "output_type": "stream",
     "text": [
      "[nltk_data] Downloading package stopwords to\n",
      "[nltk_data]     C:\\Users\\ewen\\AppData\\Roaming\\nltk_data...\n",
      "[nltk_data]   Package stopwords is already up-to-date!\n"
     ]
    }
   ],
   "source": [
    "fin_data['texte'] = fin_data['texte'].apply(mise_en_minuscule)\n",
    "\n",
    "fin_data['texte'] = fin_data['texte'].apply(lambda x: remove_accents(x))\n",
    "\n",
    "fin_data['texte'] = fin_data['texte'].apply(lambda x: clean_text(x))\n",
    "\n",
    "\n",
    "nltk.download('stopwords')\n",
    "stop_words = set(stopwords.words('french'))\n",
    "liste_stop = ['b', 'e', 'f', 'g', 'h', 'i', 'j', 'l', 'm', 'n', 'o', 'soc', 'cds', 'r', 'p', 'u', 'q', \n",
    "              'peuple', 'fs', 'audience', 'publique']\n",
    "stop_words.update(liste_stop)\n",
    "\n",
    "fin_data['texte'] = fin_data['texte'].apply(supprime_stopwords)\n",
    "\n",
    "fin_data['texte'] = fin_data['texte'].apply(supprime_espace)\n",
    "\n",
    "# python -m spacy download fr_core_news_sm\n",
    "nlp = spacy.load(\"fr_core_news_sm\", disable=[\"parser\", \"ner\"])\n",
    "\n",
    "fin_data['texte'] = lemmatize()"
   ]
  },
  {
   "cell_type": "code",
   "execution_count": 5,
   "metadata": {},
   "outputs": [
    {
     "name": "stdout",
     "output_type": "stream",
     "text": [
      "cour cassation avril cassation cathala presider arret ndeg pourvoi ndeg nom francai arret cour cassation chambre social avril societe yang ting societe exercice liberal responsabilite limitee sieg adresse prise personn qualite liquidateur judiciaire societe voxtur forme pourvoi ndeg arret rendre janvier cour appel pol chambre litige opposer domicili adresse defendeur cassation demanderess invoqu appui pourvoi moyen cassation annexe present arret dossier ete communiqu procureur general rapport mme valery conseiller referendair observation celice texidor perier avocat societe yang ting spinosi mme wurst avocat general present observation oral lors apre debat mars etaient present cathala presider mm valery conseiller referendair rapporteur mme farthouat danon conseiller millimètre pion ricour mme capitaine lacquemer nirde dorail conseiller mme pecqueur laplume conseiller referendaire mme pontonnier greffier chambre chambre social cour cassation compose application article code organisation judiciaire conseiller preciter apre delibere conformement loi rendre present arret fait procedur arret attaqu janvier signe juillet societe voxtur contrat location long vehicule ainsi contrat adhesion systeme informatise developpe societ nom cab societe relation contractuel mar saisir juridiction prud homal societe voxtur ete placee liquidation judiciaire juin societe yang ting designee qualite liquidateur examen moyen premier moyen prendre premiere deuxieme troisieme septieme branche enonce moyen societe yang ting faire grief arret requalifier relation contractuel contrat travail societe voxtur verser titre dommage interet licenciemer cause reell serieuse dommage interet procedure irregulier indemnite compensatrice conge paie indemnite compensatrice preavis conge paie afferent dommage interet travail dissimul titre frais essence alors resulte article code travail presomption non salariat execution activit donner lieu immatriculation repertoir metier ecartee lorsqu etabli personne immatricule fournit prestation donneur ordre condition placer lien subordination juridique permanent egard lien subordination caracteris execution travail autorite employeur pouvoir donner ordre directif controler execution sanctionner manquement subordonner travail sein service organis pouvoir constituer indic lien subordination employeur determine unilateralemer condition execution travail existence service organis savoir lors constituer indic lien subordination juridique plateform mise relation clientele chauffeur vtc part chauffeur obligation utiliser application reste libre choisir jour heure activite autre part chauffeur pouvoir deconnecter souhaiter troisieme part chauffeur libre effectuer course propre compte compte autre personne physique moral quatrieme part organisation course attribuee plateform relev libre choix chauffeur requerir indication part client enfin chauffeur pouvoir traiter course autre personne reserve justifier derniere remplir condition exigee reglementation exercer profession chauffeur vtc borner enoncer requalifier contrat societe voxtur chauffeur contrat travail chauffeur realiser prestation cadr service organis etablir determination unilateral condition execution societe voxtur cour appel prive decision base legal regard article code travail existence relation travail depend volont party denomination donnee convention condition fait exercee activit professionnel lien subordination caracteris execution travail autorite employeur pouvoir donner ordre directif controler execution sanctionner manquement subordonn seul fait plateform mise relation clientele chauffeur vtc definir contrat lier chauffeur typ vehicule determiner unilateralement prix prestation transport realisee intermediair savoir caracteriser lien subordination juridique lors chauffeur reste libre utiliser non service plateform choisir jour heure pouvoir deconnecter souhaite pouvoir effectuer course propre compte compte autre personne physique moral totalement libre organiser entendre course effectuer intermediair plateform chauffeur pouvoir traiter course autre personne reserve justifier derniere remplir condition exigee reglementation exercer profession chauffeur cas present contrat adhesion systeme informatise stipuler prestataire adherer libre decider jour heure activite jour repo course automatiquemer prestataire adherent connect affich materiel embarqu statuten attente connexion pouvoir interrompre prestataire adherent mettre alors paus contrat preciser egalement organisation cours itinerair laissee libre choix prestataire adherer requerir sujet indication personn transportee contrat stipuler encore prestataire adherer connexion pouvoir libremer realiser course compte compte personne physique moral statut contrat preciser enfin chauffeur pouvoir traiter course affectee application reserve societe voxtur traitant utiliser vehicule application rempliss condition profession chauffeur vtc juger neanmoins chauffeur realiser prestation lien subordination conster egard societe voxtur caracteriser quelconque obligation chauffeur tenir disposition plateform effectuer course moindre ordre moindre directive recu chauffeur relativement modalite realisation course effectuee intermediaire plateform cour appel prive decision base legal regard article code travail systeme geolocalisation inherent fonctionnement plateform numeriqu mettre relation chauffeur client potentiel caracterise lien subordination juridique chauffeur egard plateform lors systeme objet controler chauffeur utiliser contacter chauffeur connect mieux situer repondre demande client cas preser constatation cour appel terme contrat installation mise disposition chauffeur permettre societe voxtur localiser temps reel vehicule connect manier proceder dispatche optimis efficace course terme temp pris charg personn transporter trajet effectuer assurer prise charg resulte constatation gp permettre localiser chauffeur connect application objet permettre attribution chauffeur plus proche client enoncant gp permettre societe voxtur assurer ainsi controle permanent activit cour appel meconnu consequence legale evincaier propre constatation viole article code travail constatation arret attaqu type vehicule utilis eter stipule contrat adhesion systeme informatique contrat prevoyer expressement location vehicule aupre societe voxtur eter simple faculte chauffeur possibilite proprietair vehicule louer aupre autre societe borner invoquer interdependance contrat location vehicule adhesion plateform exposer quoi interdependance permettre caracteriser existence lien subordination juridique cour appel prive decision base legal regard article code travail execution contrat partenariat porter utilisation chauffeur vtc application electroniqu mise relation client impliquer possibilite plateform intermediaire transport soumettre disposition code transport assurer qualite prestation transport effectuee intermediair caracteris pouvoir disciplinaire possibilite plateform numeriqu rompre unilateralement contrat motive seul evaluation absenc ordre directive donne controle opere plateform execution course societe voxtur disposer pouvoir sanction travers systeme notation operee client cour appel ailleurs caracterise ordre directive donne plateform relativement prestation controle opere derniere prestation viole article code travail ensembl article code redaction applicable litige reponse cour article code travail result texte personne physique execution activit donnant lieu immatriculation registre texte enumere presumee etre liee donneur ordre contrat travail existence contrat travail pouvoir toutefois etablie personne fournir prestation condition placer lien subordination juridique permanent egard donneur ordre lien subordination caracteris execution travail autorite employeur pouvoir donner ordre directif controler execution sanctionner manquement subordonner pouvoir constituer indic subordination travail sein service organis employeur determine unilateralemer condition execution societe voxtur ete lier contrat travail arret retient chauffeur libre choix vehicule interdependanc contrat location adhesion plateform gp permettre societe localiser temps reel vehicule connect manier proceder repartition optimisee efficace course terme temp pris charg personn transporter trajet effectuer assurer ainsi controle permanent activit chauffeur societe fixer course facturer nom compte chauffeur modifier unilateralemer prix course hausse baisse fonction horaire arret ajoute disposer pouvoir sanction egard chauffeur travers systeme notation personne prevu article contrat adhesion determiner ainsi motif insuffisant caracteriser exercice travail sein service organis condition determinee unilateralemer societe voxtur constater adresse directif modalite execution travail disposer pouvoir controler respect sanctionner inobservation cour appel donne base legal decision motif lieu statuer autre grief cour casse annuler disposition arret rendre janvier party cour appel remettre affaire party etat trouver arret renvoie cour appel autrement composee condamner application article code procedure civil rejette demande diligence procureur general pre cour cassation present arret transmettre marg avoir suite arret casse ainsi faire jug cour cassation chambre social prononce presider avril moyen annexe present arret moyen produire celice texidor perier avocat conseil societe yang ting premier moyen cassation faire grief arret infirmatif attaquer requalifier contrat societe voxtur contrat travail condamner societe voxtur verser eur dommage interet licenciemer cause reell serieus eur dommage interet procedure irregulier eur indemnite compensatrice conge paie eur indemnite compensatrice preavi eur titre conge paie afferent eur dommage interet travail dissimul eur titre frais essence motif demande reconnaissance contrat travail existence relation travail depend volont party denomination donnee convention condition fait exercee activit professionnel element essentiel contrat travail lien subordination caracteris execution travail autorite employeur pouvoir donner ordre directif controler execution sanctionner manquement subordonner travail sein service organis pouvoir constituer indic lien subordination employeur determine unilateralemer condition execution travail appartenir revendiquer existence contrat travail alors qualite auto entrepreneur renverser presomption non salariat edictee article code travail demontrant fournir directement personne interposee prestation donneur ordre condition placaier lien subordination juridique permanent egard resulte piece produire chauffeur libre choix vehicule automobile effet preambul contrat location appel entrant enregistre plat form voxtur personne prestation haut gamme societe voxtur contracter chauffeur voiture transport disposer vehicule reponder avoir qualification deler plus encore souci coherence societe voxtur considere usage chauffeur contracter seul unique vehicule assurer visibilit marque lecab profitable tout intervenant societe voxtur date presente selectionne vehicule marqu peugeot comporter specification suivant vitre filmee cuir couleur gris haria locatair disposer vehicule marqu susvise necessair executer prestation fournir cadre contrat citer dessu societe voxtur proposer louer mettre disposition smartphone typ samsung galaxy equivalent auquel integre gp logiciel ipad destin uniquement usage personne installer arriere vehicule permettre contenir information piloter ambiance musical interieur vehicule noter qualite prestation fournie materiel embarqu utilis prestataire adherent concerner materiel radio fonction telephon contacter client regulateur telephone devoir utiliser fin personnelle communication compris sms refactureer prestataire adherent ipad temps connexion savoir devoir debranche retire emplacement habituel conserve endroit securise periode connexion surtout prestataire adherent utilis vehicule effectuer course propre compte article condition particuliere contrat adhesion systeme informatise voxtur gp permettre societe localiser temps reel vehicule connect manier proceder dispatche optimis efficace course terme temp pris charg personn transporter trajet effectuer chauffeur assurer prise charge article precit assurer ainsi controle permanent activit chauffeur societe determiner montant course facturer nom compte chauffeur modalite prelevemer commission eter determinee article contrat adhesion adresser fin semaine chauffeur factur correspondre total facturee personne chauffeur cours semaine ecoule chauffeur offrir radio seul pourcentage commission pouvoir amene diminuer nombre point course obtenir cours semain ledit adherent diminution susvisee eter definie annexe present contrat total facturee personne chauffeur cours semaine ecoule chauffeur offrir fixe an offrir flexi max souscription derniere annexe total facturee personne chauffeur cours semaine ecoule chauffeur offrir flexi degressive souscription derniere annexe concerner specifiquement course prix majore rapport prix public application accord particulier prendre societe voxtur personne physique morale facturer partenaire adherent prix public integralite majoration cas adhesion offrir flexi degressive souscription derniere annexe article modifier unilateralemer prix course hausse baisse fonction horaire ainsi envoye courriel ensembl chauffeur effet septembr indiquer chiffre affaire supplementaire heure point septembr lecab mettre place amelioration significatif calcul tarif course chauffeur partenaire coefficier desormai appliqu client tout course reservee lundi vendredi nuit dimanche jeudi inclus minuit coefficier appliqu afin booster demande aupre clientele plus jeune creneau fort potentiel competitif raison tre fluide interdependance contrat location vehicule adhesion plate form notamment possibilite societe voxtur resilier contrat adhesion systeme informatise preavi quelqu epoqu autre cas stipule article infra aussi hypothes societe voxtur constater commission acte action constituer fraude loi reglemer disposition contractuel fonctionnement normal regulier systeme informatise voxtur etat cause moment resiliation intervenir entrainerer automatiquement meme echeance resiliation contrat location vehicule celui pouvoir perdurer independamment contrat location materiel article enfin societe disposer pouvoir sanction egard chauffeur travers systeme notation prevu article contrat adhesion notation insuffisant critere definis annexe pouvoir entrainer initiative resiliation contrat lors qualite prestation chauffeur conforme prescription figurer avoir annexe annexe societe voxtur travers marque lecab jouit image qualit aupre clientele qualite donne personne souhaiter faire facon totalement independant fin prestation intermediaire systeme notation aller avoir note donne ipad present bord vehicule effet vue conserver niveau qualite prestation service realisee partenaire adherent societe voxtur consider moyen qualitatif represente nonn minimal note moyenne constatee douze dernier mois ensembl prestataire adherent eter superieure ailleurs moyenne constatee periode hebdomadaire societe voxtur considererer semaine activite transmission prestataire adherer note prestation attribuee personne cas suivant conforme critere qualitatif societe voxtur note plus inferieure egale semaine semaine note inferieure egale semaine semaine consecutiver stipule article insuffisance quantitatif note personne pouvoir constituer cause resiliation present societe voxtur ensemble element etablit chauffeur realiser prestation cadr service organis lien subordination conster egard societe voxtur echapper requalification contrat derniere valoir absence clause exclusivite chauffeur etant libre effectuer course propre compte compte autre personn physique liberte horaire travail voir travailler cependant element seul exclusif qualification lien subordination etant demeurer relev liberte choix horaire plus theorique reell chauffeur etant inciter realiser course rapporter plus point reduir ainsi montant loyer choisir plage horaire annexe contrat cour ordonne infirmation jugement requalification contrat prestation contrat travail demande indemnite conge paie salarie realise chiffre affaire global euro tout relation contractuel correspondre remuneration mensuel brute euro retenir charge hauteur seul semaine travaillee conformement demande pouvoir pretendre indemnite compensatrice conge paie correspondre remuneration percu euro rupture contrat travail societe voxtur resilie contrat adhesion chauffeur mettre oeuvre procedure licenciemer motif valable rupture devoir analyse licenciemer necessairement depourvu cause reell serieuse compte tenir anciennete salarie pouvoir pretendre indemnite reparer prejudice subir rupture absence justificatif situation personnel prejudice suffisamment repare octroi somme euro prejudice resulter inobservation procedure licenciement repare octroi euro salarie egalement fond solliciter indemnite compensatrice preavis hauteur mois salair somme euro euro titre conge paie afferent demand indemnite travail dissimul conformement article code travail dissimulation emploi salarie etablie donneur ordre soustraire intentionnellement moyen accomplissement obligation incomber employeur mentionnee article organisation mise oeuvr societe voxtur finalite creer artificiellement apparence collaboration entreprise prestataire service travailleur declar auto entrepreneur travaill realit lien subordination intention societe echapper deliberement obligation legale employeur manifeste justifier condamnation paiement indemnite forfaitaire egale avoir mois salair vertu article code travail somm euro faute salarie justifier prejudice distinct celui dejer repare indemnit forfaitaire demande rejetee remboursement frais essenc compte tenir relation contractuel prix carburer modele vehicule cour allouer somme euro titre autre demande societe voxtur devoir remettre bulletin payer certificat travail attestation pol emploi conforme preser arret alors resulte article code travail presomption non salariat execution activit donner lieu immatriculation repertoir metier ecartee lorsqu etabli personne immatricule fournit prestation donneur ordre condition placer lien subordination juridique permanent egard lien subordination caracteris execution travail autorite employeur pouvoir donner ordre directif controler execution sanctionner manquement subordonner travail sein service organis pouvoir constituer indic lien subordination employeur determine unilateralemer condition execution travail existence service organis savoir lors constituer indic lien subordination juridique plateform mise relation clientele chauffeur vtc part chauffeur obligation utiliser application reste libre choisir jour heure activite autre part chauffeur pouvoir deconnecter souhaiter troisieme part chauffeur libre effectuer course propre compte compte autre autre personne physique moral quatrieme part organisation course attribuee plateform relev libre choix chauffeur requerir indication part client enfin chauffeur pouvoir traiter course autre personne reserve justifier derniere remplir condition exigee reglementation exercer profession chauffeur vtc borner enoncer requalifier contrat societe voxtur chauffeur contrat travail chauffeur realiser prestation cadr service organis etablir determination unilateral condition execution societe voxtur cour appel prive decision base legal regard article code travail alors existence relation travail depend volont party denomination donnee convention condition fait exercee activit professionnel lien subordination caracteris execution travail autorite employeur pouvoir donner ordre directif controler execution sanctionner manquement subordonn seul fait plateform mise relation clientele chauffeur vtc definir contrat lier chauffeur typ vehicule determiner unilateralement prix prestation transport realisee intermediair savoir caracteriser lien subordination juridique lors chauffeur reste libre utiliser non service plateform choisir jour heure pouvoir deconnecter souhaite pouvoir effectuer course propre compte compte autre personne physique moral totalement libre organiser entendre course effectuer intermediair plateform chauffeur pouvoir traiter course autre personne reserve justifier derniere remplir condition exigee reglementation exercer profession chauffeur cas present contrat adhesion systeme informatise stipuler prestataire adherer libre decider jour heure activite jour repo course automatiquemer prestataire adherent connect affich materiel embarqu statut attente connexion pouvoir interrompre prestataire adherent mettre alors paus contrat preciser egalement organisation cours itinerair laissee libre choix prestataire adherer requerir sujet indication personn transportee contrat stipuler encore prestataire adherer connexion pouvoir libremer realiser course compte compte personne physique moral statut contrat preciser enfin chauffeur pouvoir traiter course affectee application reserve societe voxtur traitant utiliser vehicule application rempliss condition profession chauffeur vtc juger neanmoins chauffeur realiser prestation lien subordination conster egard societe voxtur caracteriser quelconque obligation chauffeur tenir disposition plateform effectuer course moindre ordre moindre directive recu chauffeur relativement modalite realisation course effectuee intermediaire plateform cour appel prive decision base legal regard article code travail alors systeme geolocalisation inherent fonctionnement plateform numeriqu mettre relation chauffeur client potentiel caracterise lien subordination juridique chauffeur egard plateform lors systeme objet controler chauffeur utiliser contacter chauffeur connect mieux situer repondre demande client cas preser constatation cour appel terme contrat installation mise disposition chauffeur permettre societe voxtur localiser temps reel vehicule connect manier proceder dispatche optimis efficace course terme temp pris charg personn transporter trajet effectuer assurer prise charg resulte constatation gp permettre localiser chauffeur connect application objet permettre attribution chauffeur plus proche client enoncant gp permettre societe voxtur assurer ainsi controle permanent activit cour appel meconnu consequence legale evincaier propre constatation viole article code travail alors juge tenir motiver decision pouvoir statuer voie affirmation devoir indiquer elements preuve fondre constatation factuel affirmer gp permettre societe voxtur assurer ainsi controle permanent activit chauffeur indiquer moindre element nature etablir systeme utilise autre fin localisation chauffeur connecte permettre attribution optimal course cour appel motiv decision meconnu exigence article code procedure civil article convention europeenne sauvegard droit homm liberte fondamentale alors incompatible qualification travailleur independant fait prestataire service conclure contrat adhesion determiner avance modalite prestation accomplir determination plateform mettre relation voie electroniqu prix prestation service fourni intermediair savoir caracteriser indic existence contrat travail fondre determination contrat vehicule utilis determination plateform montant course facturer compte chauffeur modification unilateral course plateform fonction horaire cour appel fondee motif impropre caracteriser subordination viole article code travail ensembl article code civil redaction anterieur ordonnance fevrier alors existence relation travail depend volont party denomination donnee convention condition fait exercee activit professionnel cas present societe voxtur faire valoir part tarif pratiquer etaient superieur moyen pratique concurrence jamais donne lieu quelconque contestation part chauffeur adherent autre part disposer liberte total effectuer course propre compte compte autre personne affirmer liberte choix horaire plus theorique reell lors prix course nature inciter choisir plage horaire prendre compte element determinant relever moindre element relatif execution relation contractuel nature demontrer contraindre utiliser application tenir disposition societe voxtur cour appel prive decision base legal regard article code travail ensembl article code civil redaction anterieur ordonnance fevrier alors constatation arret attaqu type vehicule utilis eter stipule contrat adhesion systeme informatique contrat prevoyer expressement location vehicule aupre societe voxtur eter simple faculte chauffeur possibilite proprietair vehicule louer aupre autre societe borner invoquer interdependance contrat location vehicule adhesion plateform exposer quoi interdependance permettre caracteriser existence lien subordination juridique cour appel prive decision base legal regard article code travail alors execution contrat partenariat porter utilisation chauffeur vtc application electroniqu mise relation client impliquer possibilite plateform intermediaire transport soumettre disposition code transport assurer qualite prestation transport effectuee intermediair caracteris pouvoir disciplinaire possibilite plateform numeriqu rompre unilateralement contrat motive seul evaluation absenc ordre directive donne controle opere plateform execution course societe voxtur disposer pouvoir sanction travers systeme notation operee client cour appel ailleurs caracterise ordre directive donne plateform relativement prestation controle opere derniere prestation viole article code travail ensembl article code redaction applicable litige second moyen cassation subsidiaire faire grief arret infirmatif attaqu condamner societe voxtur verser somme eur dommage interet travail dissimul motif conformement article code travail dissimulation emploi salarie etablie donneur ordre soustraire intentionnellement moyen accomplissement obligation incomber employeur mentionnee article organisation mise oeuvr societe voxtur finalite creer artificiellement apparence collaboration entreprise prestataire service travailleur declar auto entrepreneur travaill realit lien subordination intention societe echapper deliberement obligation legale employeur manifeste justifier condamnation paiement indemnite forfaitaire egale avoir mois salair vertu article code travail somm euro faute salarie justifier prejudice distinct celui dejer repare indemnit forfaitaire demande rejetee alors vertu article code travail travail dissimul dissimulation emploi salarie caracterise employeur soustraire accomplissement formalite prevu article code travail manier intentionnel recourir manier qualification autre contrat travail savoir lors caracteriser seul existence travail dissimul incombe donc juge fond motiver decision element susceptible caracteriser intention frauduleux employeur cas present contrat adhesion systeme informatise stipuler prestataire adherer libre decider jour heure activite jour repo course automatiquemer prestataire adherent connect affich materiel embarqu statut attente connexion pouvoir interrompre prestataire adherent mettre alors paus contrat preciser egalement organisation cours itinerair laissee libre choix prestataire adherer requerir sujet indication personn transportee contrat stipuler encore prestataire adherer connexion pouvoir libremer realiser course compte compte personne physique moral statut contrat preciser enfin chauffeur pouvoir traiter course affectee application reserve societe voxtur chauffeur utiliser vehicule application rempliss condition profession chauffeur vtc borner proceder voie pur affirmation enoncer organisation mise oeuvr societe voxtur finalite creer artificiellement apparence collaboration entreprise prestataire service travailleur declar auto entrepreneur travaill realit lien subordination intention societe echapper deliberement obligation legale employeur manifeste relever moindre element nature ecarter stipulation contractuel relatif liberte chauffeur choisir horaire jour travail liberte deconnecter souhaiter liberte effectuer course propre compte compte autre personne liberte organiser course attribuee possibilite traiter course cour appel prive decision base legal regard texte susvis alors cour justice europeenne jug directive parlement europeen conseil novembr concerner aspect amenagemer temps travail devoir interpretee sentir opposer personne engage employeur presum fondement service precisant entrepreneur independant qualifiee travailleur sentir directive lorsqu dispose faculte recourir traitant remplacant effectuer service engage fournir accepter accepter differente tache offrir employeur presum unilateralemer nombre maximal fournir service tiers compris concurrent direct employeur presum propre heure travail cadr parametre ainsi organiser temps adapter convenance personnel seul interet employeur presum lors part independance personne fictif autre part permettre etablir existence lien subordination personne employeur presum cjue avril aff result constituer dissimulation emploi salarie plateform numeriqu qualifier contrat travail contrat liant chauffeur dernier reste libre utiliser non service plateform choisir jour heure pouvoir deconnecter souhaite pouvoir effectuer course propre compte compte autre personne physique moral totalement libre organiser entendre course effectuer intermediair plateform chauffeur pouvoir traiter course autre personne reserve justifier derniere remplir condition exigee reglementation exercer profession chauffeur vtc borner affirmer organisation mise oeuvr societe voxtur finalite creer artificiellement apparence collaboration entreprise prestataire service travailleur declar auto entrepreneur travaill realit lien subordination intention societe echapper deliberement obligation legale employeur manifeste relever moindre element nature ecarter liberte chauffeur choisir horaire jour travail liberte deconnecter souhaiter liberte effectuer course propre compte compte autre personne liberte organiser course attribuee possibilite traiter course cour appel prive decision base legal regard article code travail alors recours contrat inapproprie autant moins susceptible caracteriser dissimulation emploi intentionnel lorsqu epoqu faire litigieux important debat juridique quant qualification donner certain type contrat qualification donner lieu jurisprudence divergent part juridiction fondre cour cassation rendre decision question borner proceder voie pur affirmation enoncer organisation mise oeuvr societe voxtur finalite creer artificiellement apparence collaboration entreprise prestataire service travailleur declar auto entrepreneur travaill realit lien subordination intention societe echapper deliberement obligation legale employeur manifeste exposer qualification travailleur independer artificiel regard legislation applicable jurisprudence cour cassation date faire cour appel justifier decision regard article code travail\n"
     ]
    }
   ],
   "source": [
    "print(fin_data['texte'][0])"
   ]
  }
 ],
 "metadata": {
  "kernelspec": {
   "display_name": "venv",
   "language": "python",
   "name": "python3"
  },
  "language_info": {
   "codemirror_mode": {
    "name": "ipython",
    "version": 3
   },
   "file_extension": ".py",
   "mimetype": "text/x-python",
   "name": "python",
   "nbconvert_exporter": "python",
   "pygments_lexer": "ipython3",
   "version": "3.10.9"
  },
  "orig_nbformat": 4,
  "vscode": {
   "interpreter": {
    "hash": "2e5f0aa3c442e12399d8e33ce2d770eeda0c9e378ff66d84e8e82b711488410b"
   }
  }
 },
 "nbformat": 4,
 "nbformat_minor": 2
}
